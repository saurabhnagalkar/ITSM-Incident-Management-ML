{
 "cells": [
  {
   "cell_type": "markdown",
   "id": "211f5dc7",
   "metadata": {},
   "source": [
    "# ITSM Incident Management\n"
   ]
  },
  {
   "cell_type": "markdown",
   "id": "54e52818",
   "metadata": {},
   "source": [
    "### ABC Tech\n",
    "\n",
    "## Project Summary\n",
    "\n",
    "### Requirement\n",
    "\n",
    "**ABC Tech is an organisation operating in IT-enabled business segment over a decade. On an average ABC Tech receives 22-25k IT incidents/tickets, which are handled to best practice by ITIL framework with incident management, problem management, change management and configuration management processes. ABC Tech management is looking for ways to improve the incident management process as recent customer survey results shows that incident management is rated as poor. Machine learning looks prospective to improve ITSM processes through prediction and automation.**\n",
    "\n",
    "**They came up with 4 key areas, where Machine Learning can help ITSM processes in ABC Tech:**\n",
    "\n",
    "**1.Predicting High Priority Tickets: To predict priority 1 & 2 tickets, so that they can take preventive measures or fix the problem before it surfaces.**\n",
    "\n",
    "**2.Forecast the incident volume in different fields, quarterly and annual. So that they can be better prepared with resources and technology planning.**\n",
    "\n",
    "**3Auto tag the tickets with right priorities and right departments so that reassigning and related delay can be reduced.**\n",
    "\n",
    "**4.Predict RFC (Request for change) and possible failure/misconfiguration of ITSM assets**\n"
   ]
  },
  {
   "cell_type": "markdown",
   "id": "406900eb",
   "metadata": {},
   "source": [
    "## Analysis\n",
    "\n",
    "**The data is ordinal, nominal as well as categorical. To analyze the data, various data processing techniques like Label Encoding and Standardization is used.For training the data and predicting the target, algorithms used are Support Vector Machine, Decision Tree, Random Forest, K-Nearest Neighbor, XGBoost Classifier and Artificial Neural Network. Volume Forecasting is done with the help of Statsmodels & Matplotlib.**\n",
    "\n",
    "**The analysis is done in three parts:**\n",
    "\n",
    "**1.Predicting Priorities: The predictor variables are Category, CI Category, CI Subcategory & WBS**\n",
    "\n",
    "**2.Predicting Request for Change (RFC): The predictor variables are Category, CI Subcategory, WBS, Priority, Number of Related Interaction, Number of Related Incidents**\n",
    "\n",
    "**3.Forecasting the Incident Volume: The predictor variable is opening time.**"
   ]
  },
  {
   "cell_type": "markdown",
   "id": "3e568530",
   "metadata": {},
   "source": [
    "## Summary\n",
    "\n",
    "**The project is done with the purpose of:**\n",
    "\n",
    "**1.Finding out factors which affects priority and training a model which accurately predicts it so that preventive measures can be taken for High Priority Tickets and reassigning can be reduced.**\n",
    "\n",
    "**2.Finding out factors which affect RFC and predicting it.**\n",
    "\n",
    "**3.Forecasting Incident Volume in the future so that they can be better prepared with resources and technology planning.**\n",
    "\n",
    "### **The following steps are carried out:**\n",
    "\n",
    "**1.Importing the data, necessary libraries, & exploring the data to look for missing values.**\n",
    "\n",
    "**2.Selecting the features for analysis, label encoding the ordinal column and splitting the data into test & train.**\n",
    "\n",
    "**3.Training the data using algorithms like Support Vector Machine, Decision Tree, Random Forest, K-Nearest Neighbor, XGBoost Classifier and Artificial Neural Network and checking the accuracy to find out which algorithm is the best.**\n",
    "\n",
    "**4.Exporting the model with highest accuracy.**\n",
    "\n",
    "**5.For Incident Volume Forecasting, Ticket Opening Time is taken and Time Series Forecasting is used.**"
   ]
  },
  {
   "cell_type": "markdown",
   "id": "71e6295f",
   "metadata": {},
   "source": [
    "## Results\n",
    "\n",
    "**For predicting Ticket Priority, Random Forest gives almost 98.5% accuracy. Predicting RFC accurately is not possible with this data. And Volume Forecasting is visualized with the help of Matplotlib throughout the year.**"
   ]
  },
  {
   "cell_type": "code",
   "execution_count": null,
   "id": "7d3585a8",
   "metadata": {},
   "outputs": [],
   "source": []
  },
  {
   "cell_type": "markdown",
   "id": "f3e597fa",
   "metadata": {},
   "source": [
    "**Importing the Essential Libraries for Data Science and Machine Learning**"
   ]
  },
  {
   "cell_type": "code",
   "execution_count": 30,
   "id": "1a67431a",
   "metadata": {},
   "outputs": [],
   "source": [
    "import pandas as pd\n",
    "import numpy as np\n",
    "import datetime as dt\n",
    "import matplotlib.pyplot as plt\n",
    "import seaborn as sns\n",
    "import itertools\n",
    "import statsmodels.api as sm\n",
    "from sklearn.preprocessing import LabelEncoder, StandardScaler\n",
    "from sklearn.model_selection import train_test_split\n",
    "from sklearn.metrics import confusion_matrix , accuracy_score, recall_score, precision_score, f1_score, classification_report\n",
    "import warnings \n",
    "warnings.filterwarnings('ignore')"
   ]
  },
  {
   "cell_type": "markdown",
   "id": "0ae9c72f",
   "metadata": {},
   "source": [
    "**Loading and Previewing the ITSM Dataset**"
   ]
  },
  {
   "cell_type": "code",
   "execution_count": 9,
   "id": "f41843a6",
   "metadata": {},
   "outputs": [
    {
     "data": {
      "text/html": [
       "<div>\n",
       "<style scoped>\n",
       "    .dataframe tbody tr th:only-of-type {\n",
       "        vertical-align: middle;\n",
       "    }\n",
       "\n",
       "    .dataframe tbody tr th {\n",
       "        vertical-align: top;\n",
       "    }\n",
       "\n",
       "    .dataframe thead th {\n",
       "        text-align: right;\n",
       "    }\n",
       "</style>\n",
       "<table border=\"1\" class=\"dataframe\">\n",
       "  <thead>\n",
       "    <tr style=\"text-align: right;\">\n",
       "      <th></th>\n",
       "      <th>CI_Name</th>\n",
       "      <th>CI_Cat</th>\n",
       "      <th>CI_Subcat</th>\n",
       "      <th>WBS</th>\n",
       "      <th>Incident_ID</th>\n",
       "      <th>Status</th>\n",
       "      <th>Impact</th>\n",
       "      <th>Urgency</th>\n",
       "      <th>Priority</th>\n",
       "      <th>number_cnt</th>\n",
       "      <th>...</th>\n",
       "      <th>Reopen_Time</th>\n",
       "      <th>Resolved_Time</th>\n",
       "      <th>Close_Time</th>\n",
       "      <th>Handle_Time_hrs</th>\n",
       "      <th>Closure_Code</th>\n",
       "      <th>No_of_Related_Interactions</th>\n",
       "      <th>Related_Interaction</th>\n",
       "      <th>No_of_Related_Incidents</th>\n",
       "      <th>No_of_Related_Changes</th>\n",
       "      <th>Related_Change</th>\n",
       "    </tr>\n",
       "  </thead>\n",
       "  <tbody>\n",
       "    <tr>\n",
       "      <th>0</th>\n",
       "      <td>SUB000508</td>\n",
       "      <td>subapplication</td>\n",
       "      <td>Web Based Application</td>\n",
       "      <td>WBS000162</td>\n",
       "      <td>IM0000004</td>\n",
       "      <td>Closed</td>\n",
       "      <td>4</td>\n",
       "      <td>4</td>\n",
       "      <td>4.0</td>\n",
       "      <td>0.601292</td>\n",
       "      <td>...</td>\n",
       "      <td>NaN</td>\n",
       "      <td>4/11/2013 13:50</td>\n",
       "      <td>4/11/2013 13:51</td>\n",
       "      <td>3,87,16,91,111</td>\n",
       "      <td>Other</td>\n",
       "      <td>1.0</td>\n",
       "      <td>SD0000007</td>\n",
       "      <td>2.0</td>\n",
       "      <td>NaN</td>\n",
       "      <td>NaN</td>\n",
       "    </tr>\n",
       "    <tr>\n",
       "      <th>1</th>\n",
       "      <td>WBA000124</td>\n",
       "      <td>application</td>\n",
       "      <td>Web Based Application</td>\n",
       "      <td>WBS000088</td>\n",
       "      <td>IM0000005</td>\n",
       "      <td>Closed</td>\n",
       "      <td>3</td>\n",
       "      <td>3</td>\n",
       "      <td>3.0</td>\n",
       "      <td>0.415050</td>\n",
       "      <td>...</td>\n",
       "      <td>2/12/2013 12:31</td>\n",
       "      <td>2/12/2013 12:36</td>\n",
       "      <td>2/12/2013 12:36</td>\n",
       "      <td>4,35,47,86,389</td>\n",
       "      <td>Software</td>\n",
       "      <td>1.0</td>\n",
       "      <td>SD0000011</td>\n",
       "      <td>1.0</td>\n",
       "      <td>NaN</td>\n",
       "      <td>NaN</td>\n",
       "    </tr>\n",
       "    <tr>\n",
       "      <th>2</th>\n",
       "      <td>DTA000024</td>\n",
       "      <td>application</td>\n",
       "      <td>Desktop Application</td>\n",
       "      <td>WBS000092</td>\n",
       "      <td>IM0000006</td>\n",
       "      <td>Closed</td>\n",
       "      <td>NS</td>\n",
       "      <td>3</td>\n",
       "      <td>NaN</td>\n",
       "      <td>0.517551</td>\n",
       "      <td>...</td>\n",
       "      <td>NaN</td>\n",
       "      <td>13-01-2014 15:12</td>\n",
       "      <td>13-01-2014 15:13</td>\n",
       "      <td>4,84,31,19,444</td>\n",
       "      <td>No error - works as designed</td>\n",
       "      <td>1.0</td>\n",
       "      <td>SD0000017</td>\n",
       "      <td>NaN</td>\n",
       "      <td>NaN</td>\n",
       "      <td>NaN</td>\n",
       "    </tr>\n",
       "    <tr>\n",
       "      <th>3</th>\n",
       "      <td>WBA000124</td>\n",
       "      <td>application</td>\n",
       "      <td>Web Based Application</td>\n",
       "      <td>WBS000088</td>\n",
       "      <td>IM0000011</td>\n",
       "      <td>Closed</td>\n",
       "      <td>4</td>\n",
       "      <td>4</td>\n",
       "      <td>4.0</td>\n",
       "      <td>0.642927</td>\n",
       "      <td>...</td>\n",
       "      <td>NaN</td>\n",
       "      <td>14-11-2013 09:31</td>\n",
       "      <td>14-11-2013 09:31</td>\n",
       "      <td>4,32,18,33,333</td>\n",
       "      <td>Operator error</td>\n",
       "      <td>1.0</td>\n",
       "      <td>SD0000025</td>\n",
       "      <td>NaN</td>\n",
       "      <td>NaN</td>\n",
       "      <td>NaN</td>\n",
       "    </tr>\n",
       "    <tr>\n",
       "      <th>4</th>\n",
       "      <td>WBA000124</td>\n",
       "      <td>application</td>\n",
       "      <td>Web Based Application</td>\n",
       "      <td>WBS000088</td>\n",
       "      <td>IM0000012</td>\n",
       "      <td>Closed</td>\n",
       "      <td>4</td>\n",
       "      <td>4</td>\n",
       "      <td>4.0</td>\n",
       "      <td>0.345258</td>\n",
       "      <td>...</td>\n",
       "      <td>NaN</td>\n",
       "      <td>8/11/2013 13:55</td>\n",
       "      <td>8/11/2013 13:55</td>\n",
       "      <td>3,38,39,03,333</td>\n",
       "      <td>Other</td>\n",
       "      <td>1.0</td>\n",
       "      <td>SD0000029</td>\n",
       "      <td>NaN</td>\n",
       "      <td>NaN</td>\n",
       "      <td>NaN</td>\n",
       "    </tr>\n",
       "  </tbody>\n",
       "</table>\n",
       "<p>5 rows × 25 columns</p>\n",
       "</div>"
      ],
      "text/plain": [
       "     CI_Name          CI_Cat              CI_Subcat        WBS Incident_ID  \\\n",
       "0  SUB000508  subapplication  Web Based Application  WBS000162   IM0000004   \n",
       "1  WBA000124     application  Web Based Application  WBS000088   IM0000005   \n",
       "2  DTA000024     application    Desktop Application  WBS000092   IM0000006   \n",
       "3  WBA000124     application  Web Based Application  WBS000088   IM0000011   \n",
       "4  WBA000124     application  Web Based Application  WBS000088   IM0000012   \n",
       "\n",
       "   Status Impact Urgency  Priority  number_cnt  ...      Reopen_Time  \\\n",
       "0  Closed      4       4       4.0    0.601292  ...              NaN   \n",
       "1  Closed      3       3       3.0    0.415050  ...  2/12/2013 12:31   \n",
       "2  Closed     NS       3       NaN    0.517551  ...              NaN   \n",
       "3  Closed      4       4       4.0    0.642927  ...              NaN   \n",
       "4  Closed      4       4       4.0    0.345258  ...              NaN   \n",
       "\n",
       "      Resolved_Time        Close_Time  Handle_Time_hrs  \\\n",
       "0   4/11/2013 13:50   4/11/2013 13:51   3,87,16,91,111   \n",
       "1   2/12/2013 12:36   2/12/2013 12:36   4,35,47,86,389   \n",
       "2  13-01-2014 15:12  13-01-2014 15:13   4,84,31,19,444   \n",
       "3  14-11-2013 09:31  14-11-2013 09:31   4,32,18,33,333   \n",
       "4   8/11/2013 13:55   8/11/2013 13:55   3,38,39,03,333   \n",
       "\n",
       "                   Closure_Code No_of_Related_Interactions  \\\n",
       "0                         Other                        1.0   \n",
       "1                      Software                        1.0   \n",
       "2  No error - works as designed                        1.0   \n",
       "3                Operator error                        1.0   \n",
       "4                         Other                        1.0   \n",
       "\n",
       "  Related_Interaction No_of_Related_Incidents No_of_Related_Changes  \\\n",
       "0           SD0000007                     2.0                   NaN   \n",
       "1           SD0000011                     1.0                   NaN   \n",
       "2           SD0000017                     NaN                   NaN   \n",
       "3           SD0000025                     NaN                   NaN   \n",
       "4           SD0000029                     NaN                   NaN   \n",
       "\n",
       "  Related_Change  \n",
       "0            NaN  \n",
       "1            NaN  \n",
       "2            NaN  \n",
       "3            NaN  \n",
       "4            NaN  \n",
       "\n",
       "[5 rows x 25 columns]"
      ]
     },
     "execution_count": 9,
     "metadata": {},
     "output_type": "execute_result"
    }
   ],
   "source": [
    "itsm = pd.read_csv(r\"C:\\Imarticus PGA\\Project\\ITSM_data.csv\")\n",
    "itsm.head()"
   ]
  },
  {
   "cell_type": "markdown",
   "id": "3fa92f6e",
   "metadata": {},
   "source": [
    "**Exploring the ITSM Dataset: Shape, Columns, Data Info and Nulls**"
   ]
  },
  {
   "cell_type": "code",
   "execution_count": 20,
   "id": "7db647b6",
   "metadata": {},
   "outputs": [
    {
     "name": "stdout",
     "output_type": "stream",
     "text": [
      "(46606, 25)\n",
      "---------------------------------------------------------------------------\n",
      "Index(['CI_Name', 'CI_Cat', 'CI_Subcat', 'WBS', 'Incident_ID', 'Status',\n",
      "       'Impact', 'Urgency', 'Priority', 'number_cnt', 'Category', 'KB_number',\n",
      "       'Alert_Status', 'No_of_Reassignments', 'Open_Time', 'Reopen_Time',\n",
      "       'Resolved_Time', 'Close_Time', 'Handle_Time_hrs', 'Closure_Code',\n",
      "       'No_of_Related_Interactions', 'Related_Interaction',\n",
      "       'No_of_Related_Incidents', 'No_of_Related_Changes', 'Related_Change'],\n",
      "      dtype='object')\n",
      "---------------------------------------------------------------------------\n",
      "<class 'pandas.core.frame.DataFrame'>\n",
      "RangeIndex: 46606 entries, 0 to 46605\n",
      "Data columns (total 25 columns):\n",
      " #   Column                      Non-Null Count  Dtype  \n",
      "---  ------                      --------------  -----  \n",
      " 0   CI_Name                     46606 non-null  object \n",
      " 1   CI_Cat                      46495 non-null  object \n",
      " 2   CI_Subcat                   46495 non-null  object \n",
      " 3   WBS                         46606 non-null  object \n",
      " 4   Incident_ID                 46606 non-null  object \n",
      " 5   Status                      46606 non-null  object \n",
      " 6   Impact                      46606 non-null  object \n",
      " 7   Urgency                     46606 non-null  object \n",
      " 8   Priority                    45226 non-null  float64\n",
      " 9   number_cnt                  46606 non-null  float64\n",
      " 10  Category                    46606 non-null  object \n",
      " 11  KB_number                   46606 non-null  object \n",
      " 12  Alert_Status                46606 non-null  object \n",
      " 13  No_of_Reassignments         46605 non-null  float64\n",
      " 14  Open_Time                   46606 non-null  object \n",
      " 15  Reopen_Time                 2284 non-null   object \n",
      " 16  Resolved_Time               44826 non-null  object \n",
      " 17  Close_Time                  46606 non-null  object \n",
      " 18  Handle_Time_hrs             46605 non-null  object \n",
      " 19  Closure_Code                46146 non-null  object \n",
      " 20  No_of_Related_Interactions  46492 non-null  float64\n",
      " 21  Related_Interaction         46606 non-null  object \n",
      " 22  No_of_Related_Incidents     1222 non-null   float64\n",
      " 23  No_of_Related_Changes       560 non-null    float64\n",
      " 24  Related_Change              560 non-null    object \n",
      "dtypes: float64(6), object(19)\n",
      "memory usage: 8.9+ MB\n",
      "None\n",
      "---------------------------------------------------------------------------\n",
      "CI_Cat                          111\n",
      "CI_Subcat                       111\n",
      "Priority                       1380\n",
      "No_of_Reassignments               1\n",
      "Reopen_Time                   44322\n",
      "Resolved_Time                  1780\n",
      "Handle_Time_hrs                   1\n",
      "Closure_Code                    460\n",
      "No_of_Related_Interactions      114\n",
      "No_of_Related_Incidents       45384\n",
      "No_of_Related_Changes         46046\n",
      "Related_Change                46046\n",
      "dtype: int64\n",
      "---------------------------------------------------------------------------\n"
     ]
    }
   ],
   "source": [
    "print(itsm.shape)\n",
    "print(\"---------------------------------------------------------------------------\")\n",
    "\n",
    "print(itsm.columns)\n",
    "print(\"---------------------------------------------------------------------------\")\n",
    "\n",
    "print(itsm.info())\n",
    "print(\"---------------------------------------------------------------------------\")\n",
    "\n",
    "print(itsm.isnull().sum()[itsm.isnull().sum() > 0])\n",
    "print(\"---------------------------------------------------------------------------\")\n"
   ]
  },
  {
   "cell_type": "markdown",
   "id": "13f2b74f",
   "metadata": {},
   "source": [
    "### Data Processing / Data Munging\n",
    "CI Category & CI Subcategory had a lot of labels which were replaced  to only take the major ones. Unknown values were replaced by Mode values."
   ]
  },
  {
   "cell_type": "code",
   "execution_count": 22,
   "id": "6ee5a455",
   "metadata": {},
   "outputs": [],
   "source": [
    "#This code is used to clean the CI_Cat column by replacing specific values with more appropriate ones and \n",
    "#filling NaN values with a default value ('application').\n",
    "\n",
    "itsm.CI_Cat.replace(['database'],'storage',inplace=True)\n",
    "itsm.CI_Cat.replace(['applicationcomponent'],'subapplication',inplace=True)\n",
    "itsm.CI_Cat.replace(['displaydevice','officeelectronics','Phone','networkcomponents'],'hardware',inplace=True)\n",
    "itsm.CI_Cat.replace(np.nan,'application',inplace=True)"
   ]
  },
  {
   "cell_type": "code",
   "execution_count": 27,
   "id": "aed3b1b7",
   "metadata": {},
   "outputs": [],
   "source": [
    "#Replacing specific values in the CI_Subcat column with more descriptive categories to standardize the dataset\n",
    "\n",
    "itsm.CI_Subcat.replace('Desktop','Desktop Application',inplace=True)\n",
    "itsm.CI_Subcat.replace(['Application Server','Virtual Tape Server','ESX Server','zOS Server','Neoview Server','X86 Server',\n",
    "                       'Unix Server','Oracle Server','Windows Server in extern beheer','Thin Client','NonStop Server',\n",
    "                       'Number','Windows Server','Linux Server',np.nan,'SharePoint Farm','Lines'],\n",
    "                       'Server Based Application',inplace=True)\n",
    "itsm.CI_Subcat.replace('RAC Service','Banking Device',inplace=True)\n",
    "itsm.CI_Subcat.replace(['Iptelephony','Protocol','Net Device','IPtelephony','ESX Cluster','Standard Application'],\n",
    "                       'Web Based Application',inplace=True)\n",
    "itsm.CI_Subcat.replace(['VMWare','Security Software','zOS Systeem','Firewall','Database Software','VDI','Instance',\n",
    "                       'MQ Queue Manager','Automation Software','Citrix','SAP','Encryption'],'System Software',inplace=True)\n",
    "itsm.CI_Subcat.replace(['UPS','Omgeving'],'Client Based Application',inplace=True)\n",
    "itsm.CI_Subcat.replace(['NonStop Storage','NonStop Harddisk','Tape Library','zOS Cluster','DataCenterEquipment',\n",
    "                       'MigratieDummy'],'Database',inplace=True)\n",
    "itsm.CI_Subcat.replace(['Modem','Router'],'Network Component',inplace=True)\n",
    "itsm.CI_Subcat.replace('KVM Switches','Switch',inplace=True)"
   ]
  },
  {
   "cell_type": "code",
   "execution_count": 75,
   "id": "de5b4c31",
   "metadata": {},
   "outputs": [],
   "source": [
    "# Filling missing values (NaN) with default values or the most frequent values (mode) in each respective column to ensure data completeness.\n",
    "\n",
    "itsm.Priority.fillna(4,inplace=True)\n",
    "itsm.No_of_Reassignments.fillna(itsm.No_of_Reassignments.mode()[0],inplace=True)\n",
    "itsm.Reopen_Time.fillna(itsm.Reopen_Time.mode()[0],inplace=True)\n",
    "itsm.Resolved_Time.fillna(itsm.Resolved_Time.mode()[0],inplace=True)\n",
    "itsm.Handle_Time_hrs.fillna(itsm.Handle_Time_hrs.mode()[0],inplace=True)\n",
    "itsm.Closure_Code.fillna('Other',inplace=True)\n",
    "itsm.No_of_Related_Interactions.fillna(1,inplace=True)\n",
    "itsm.No_of_Related_Incidents.fillna(0,inplace=True)\n",
    "itsm.No_of_Related_Changes.fillna(0,inplace=True)\n",
    "itsm.Related_Change.fillna('No Change',inplace=True)\n"
   ]
  },
  {
   "cell_type": "code",
   "execution_count": null,
   "id": "d3eceae6",
   "metadata": {},
   "outputs": [],
   "source": []
  },
  {
   "cell_type": "markdown",
   "id": "019d088e",
   "metadata": {},
   "source": [
    "# 1. Predicting Priorities\n",
    "**Only the features which are available when the tickets arrives can be used to predict priority. Therefore, we have used only 4 predictors.**"
   ]
  },
  {
   "cell_type": "code",
   "execution_count": 77,
   "id": "cb4d18aa",
   "metadata": {},
   "outputs": [],
   "source": [
    "X = itsm.loc[:,['CI_Cat','CI_Subcat','WBS','Category']]\n",
    "y = itsm.Priority"
   ]
  },
  {
   "cell_type": "code",
   "execution_count": 80,
   "id": "52e5c0d9",
   "metadata": {},
   "outputs": [
    {
     "data": {
      "text/html": [
       "<div>\n",
       "<style scoped>\n",
       "    .dataframe tbody tr th:only-of-type {\n",
       "        vertical-align: middle;\n",
       "    }\n",
       "\n",
       "    .dataframe tbody tr th {\n",
       "        vertical-align: top;\n",
       "    }\n",
       "\n",
       "    .dataframe thead th {\n",
       "        text-align: right;\n",
       "    }\n",
       "</style>\n",
       "<table border=\"1\" class=\"dataframe\">\n",
       "  <thead>\n",
       "    <tr style=\"text-align: right;\">\n",
       "      <th></th>\n",
       "      <th>CI_Cat</th>\n",
       "      <th>CI_Subcat</th>\n",
       "      <th>WBS</th>\n",
       "      <th>Category</th>\n",
       "    </tr>\n",
       "  </thead>\n",
       "  <tbody>\n",
       "    <tr>\n",
       "      <th>0</th>\n",
       "      <td>5</td>\n",
       "      <td>16</td>\n",
       "      <td>137</td>\n",
       "      <td>1</td>\n",
       "    </tr>\n",
       "    <tr>\n",
       "      <th>1</th>\n",
       "      <td>0</td>\n",
       "      <td>16</td>\n",
       "      <td>70</td>\n",
       "      <td>1</td>\n",
       "    </tr>\n",
       "    <tr>\n",
       "      <th>2</th>\n",
       "      <td>0</td>\n",
       "      <td>4</td>\n",
       "      <td>74</td>\n",
       "      <td>3</td>\n",
       "    </tr>\n",
       "  </tbody>\n",
       "</table>\n",
       "</div>"
      ],
      "text/plain": [
       "   CI_Cat  CI_Subcat  WBS  Category\n",
       "0       5         16  137         1\n",
       "1       0         16   70         1\n",
       "2       0          4   74         3"
      ]
     },
     "execution_count": 80,
     "metadata": {},
     "output_type": "execute_result"
    }
   ],
   "source": [
    "# Label Encoding\n",
    "le = LabelEncoder()\n",
    "for i in (0,1,2,3):\n",
    "    X.iloc[:,i] = le.fit_transform(X.iloc[:,i])\n",
    "    \n",
    "X.head(3)"
   ]
  },
  {
   "cell_type": "code",
   "execution_count": 81,
   "id": "a12e68d3",
   "metadata": {},
   "outputs": [],
   "source": [
    "# Splitting the data into test and train for calculating accuracy\n",
    "x_train, x_test, y_train, y_test = train_test_split(X,y,test_size=0.25,random_state=10)"
   ]
  },
  {
   "cell_type": "code",
   "execution_count": 82,
   "id": "8ac74434",
   "metadata": {},
   "outputs": [],
   "source": [
    "# Standardization technique\n",
    "sc = StandardScaler()\n",
    "x_train = sc.fit_transform(x_train)\n",
    "x_test = sc.transform(x_test)"
   ]
  },
  {
   "cell_type": "code",
   "execution_count": 83,
   "id": "b1901a1a",
   "metadata": {},
   "outputs": [
    {
     "data": {
      "text/plain": [
       "(34954, 4)"
      ]
     },
     "execution_count": 83,
     "metadata": {},
     "output_type": "execute_result"
    }
   ],
   "source": [
    "x_train.shape"
   ]
  },
  {
   "cell_type": "code",
   "execution_count": 84,
   "id": "cbd6233a",
   "metadata": {},
   "outputs": [
    {
     "data": {
      "text/plain": [
       "(11652, 4)"
      ]
     },
     "execution_count": 84,
     "metadata": {},
     "output_type": "execute_result"
    }
   ],
   "source": [
    "x_test.shape"
   ]
  },
  {
   "cell_type": "markdown",
   "id": "6c70a0f6",
   "metadata": {},
   "source": [
    "# Model Building"
   ]
  },
  {
   "cell_type": "markdown",
   "id": "aca6bce9",
   "metadata": {},
   "source": [
    "###  1. Support Vector Machine\n"
   ]
  },
  {
   "cell_type": "code",
   "execution_count": 86,
   "id": "9b1c068a",
   "metadata": {},
   "outputs": [
    {
     "data": {
      "text/plain": [
       "array([[   0,    0,    0,    1,    0],\n",
       "       [   0,  113,    5,   44,    7],\n",
       "       [   0,   30,  406,  815,   80],\n",
       "       [   0,   64,  252, 5421,  319],\n",
       "       [   0,    7,   62, 1239, 2787]], dtype=int64)"
      ]
     },
     "execution_count": 86,
     "metadata": {},
     "output_type": "execute_result"
    }
   ],
   "source": [
    "# Training the model\n",
    "from sklearn.svm import SVC\n",
    "svc = SVC(kernel='rbf',C=10,gamma=0.1).fit(x_train,y_train)\n",
    "y_predict_svm = svc.predict(x_test)                            # Predicting the model\n",
    "tab_svm = confusion_matrix(y_test,y_predict_svm)\n",
    "tab_svm\n"
   ]
  },
  {
   "cell_type": "code",
   "execution_count": 87,
   "id": "2bf2f08c",
   "metadata": {},
   "outputs": [
    {
     "name": "stdout",
     "output_type": "stream",
     "text": [
      "0.7489701338825953\n",
      "              precision    recall  f1-score   support\n",
      "\n",
      "         1.0       0.00      0.00      0.00         1\n",
      "         2.0       0.53      0.67      0.59       169\n",
      "         3.0       0.56      0.31      0.39      1331\n",
      "         4.0       0.72      0.90      0.80      6056\n",
      "         5.0       0.87      0.68      0.76      4095\n",
      "\n",
      "    accuracy                           0.75     11652\n",
      "   macro avg       0.54      0.51      0.51     11652\n",
      "weighted avg       0.75      0.75      0.74     11652\n",
      "\n"
     ]
    }
   ],
   "source": [
    "# Finding accuracy, precision, recall and confusion matrix\n",
    "print(accuracy_score(y_test,y_predict_svm))\n",
    "print(classification_report(y_test,y_predict_svm))"
   ]
  },
  {
   "cell_type": "markdown",
   "id": "47312e4d",
   "metadata": {},
   "source": [
    "**Support Vector Machine Model Evaluation:**\n",
    "\n",
    "Accuracy: 74.90%\n",
    "\n",
    "Key Insights:\n",
    "\n",
    "Class 4.0 performs very well with high precision (0.72) and recall (0.90).\n",
    "\n",
    "Class 5.0 also shows decent performance with good precision (0.87) but lower recall (0.68).\n",
    "\n",
    "Class 2.0 and Class 3.0 have moderate performance, with recall values below 0.70 and relatively lower precision.\n",
    "\n",
    "Class 1.0 is predicted poorly, with both precision and recall being 0.00, likely due to its rarity.\n",
    "\n",
    "Overall, the model performs well on Class 4.0 and Class 5.0, but has issues with predicting Class 1.0 effectively, as well as lower recall for Class 3.0."
   ]
  },
  {
   "cell_type": "code",
   "execution_count": null,
   "id": "0170c4b7",
   "metadata": {},
   "outputs": [],
   "source": []
  },
  {
   "cell_type": "markdown",
   "id": "070a191f",
   "metadata": {},
   "source": [
    "### 2. Decision Tree\n"
   ]
  },
  {
   "cell_type": "code",
   "execution_count": 137,
   "id": "adfb575f",
   "metadata": {},
   "outputs": [
    {
     "data": {
      "text/plain": [
       "array([[   0,    0,    0,    1,    0],\n",
       "       [   0,  118,    6,   32,   13],\n",
       "       [   0,   35,  835,  362,   99],\n",
       "       [   0,   66,  360, 5304,  326],\n",
       "       [   0,    9,   39,  762, 3285]], dtype=int64)"
      ]
     },
     "execution_count": 137,
     "metadata": {},
     "output_type": "execute_result"
    }
   ],
   "source": [
    "from sklearn.tree import DecisionTreeClassifier\n",
    "dt = DecisionTreeClassifier()\n",
    "dt.fit(x_train,y_train)\n",
    "pred_dt = dt.predict(x_test)\n",
    "tab_dt = confusion_matrix(y_test,pred_dt)\n",
    "tab_dt"
   ]
  },
  {
   "cell_type": "code",
   "execution_count": 138,
   "id": "d09b4587",
   "metadata": {},
   "outputs": [
    {
     "name": "stdout",
     "output_type": "stream",
     "text": [
      "0.818915207689667\n",
      "              precision    recall  f1-score   support\n",
      "\n",
      "           1       0.00      0.00      0.00         1\n",
      "           2       0.52      0.70      0.59       169\n",
      "           3       0.67      0.63      0.65      1331\n",
      "           4       0.82      0.88      0.85      6056\n",
      "           5       0.88      0.80      0.84      4095\n",
      "\n",
      "    accuracy                           0.82     11652\n",
      "   macro avg       0.58      0.60      0.59     11652\n",
      "weighted avg       0.82      0.82      0.82     11652\n",
      "\n"
     ]
    }
   ],
   "source": [
    "# Finding accuracy, precision, recall and confusion matrix\n",
    "print(accuracy_score(y_test,pred_dt))\n",
    "print(classification_report(y_test,pred_dt))"
   ]
  },
  {
   "cell_type": "markdown",
   "id": "058c8d6d",
   "metadata": {},
   "source": [
    "**Decision Tree Model Evaluation:**\n",
    "\n",
    "Accuracy: 81.90%\n",
    "\n",
    "Key Insights:\n",
    "\n",
    "Class 4.0 shows strong performance with high precision and recall.\n",
    "\n",
    "Class 5.0 also performs well, with good precision and recall.\n",
    "\n",
    "Class 3.0 has decent performance, but there’s still room for improvement in recall.\n",
    "\n",
    "Class 2.0 shows moderate performance.\n",
    "\n",
    "Class 1.0 is not well predicted, with poor precision and recall, likely due to its rarity in the dataset.\n",
    "\n",
    "Overall, the model performs well on most classes, particularly for 4.0 and 5.0, but struggles with 1.0."
   ]
  },
  {
   "cell_type": "code",
   "execution_count": null,
   "id": "82c0da83",
   "metadata": {},
   "outputs": [],
   "source": []
  },
  {
   "cell_type": "markdown",
   "id": "1e9a236e",
   "metadata": {},
   "source": [
    "### 3. Random Forest\n"
   ]
  },
  {
   "cell_type": "code",
   "execution_count": 94,
   "id": "26fbb209",
   "metadata": {},
   "outputs": [
    {
     "data": {
      "text/plain": [
       "array([[   0,    0,    0,    1,    0],\n",
       "       [   0,  118,    6,   32,   13],\n",
       "       [   0,   34,  816,  380,  101],\n",
       "       [   0,   64,  358, 5307,  327],\n",
       "       [   0,    9,   35,  760, 3291]], dtype=int64)"
      ]
     },
     "execution_count": 94,
     "metadata": {},
     "output_type": "execute_result"
    }
   ],
   "source": [
    "from sklearn.ensemble import RandomForestClassifier\n",
    "rf = RandomForestClassifier(n_estimators=100,criterion='entropy',max_depth=27) \n",
    "rf.fit(x_train,y_train)\n",
    "pred_rf = rf.predict(x_test)\n",
    "tab_rf = confusion_matrix(y_test,pred_rf)\n",
    "tab_rf"
   ]
  },
  {
   "cell_type": "code",
   "execution_count": 95,
   "id": "4d7f3953",
   "metadata": {},
   "outputs": [
    {
     "name": "stdout",
     "output_type": "stream",
     "text": [
      "0.8180569859251631\n",
      "              precision    recall  f1-score   support\n",
      "\n",
      "         1.0       0.00      0.00      0.00         1\n",
      "         2.0       0.52      0.70      0.60       169\n",
      "         3.0       0.67      0.61      0.64      1331\n",
      "         4.0       0.82      0.88      0.85      6056\n",
      "         5.0       0.88      0.80      0.84      4095\n",
      "\n",
      "    accuracy                           0.82     11652\n",
      "   macro avg       0.58      0.60      0.59     11652\n",
      "weighted avg       0.82      0.82      0.82     11652\n",
      "\n"
     ]
    }
   ],
   "source": [
    "# Finding accuracy, precision, recall and confusion matrix\n",
    "print(accuracy_score(y_test,pred_rf))\n",
    "print(classification_report(y_test,pred_rf))"
   ]
  },
  {
   "cell_type": "markdown",
   "id": "01dbcede",
   "metadata": {},
   "source": [
    "**Random Forest Model Evaluation:**\n",
    "\n",
    "Accuracy: 81.81%\n",
    "\n",
    "Key Insights:\n",
    "\n",
    "The model performs well for class 4.0 and class 5.0, with high precision and recall.\n",
    "\n",
    "Class 1.0 is misclassified, with poor performance.\n",
    "\n",
    "Classes 2.0 and 3.0 show moderate performance, but there’s room for improvement.\n",
    "\n",
    "Overall, the model is strong, especially for higher classes, but can be improved for class 1.0."
   ]
  },
  {
   "cell_type": "code",
   "execution_count": null,
   "id": "4118a74c",
   "metadata": {},
   "outputs": [],
   "source": []
  },
  {
   "cell_type": "markdown",
   "id": "164f3858",
   "metadata": {},
   "source": [
    "### 4. K-Nearest Neighbor\n"
   ]
  },
  {
   "cell_type": "code",
   "execution_count": 97,
   "id": "0a060ce3",
   "metadata": {},
   "outputs": [
    {
     "data": {
      "text/plain": [
       "array([[   0,    0,    0,    1,    0],\n",
       "       [   0,  114,   10,   33,   12],\n",
       "       [   0,   31,  676,  522,  102],\n",
       "       [   0,   65,  299, 5382,  310],\n",
       "       [   0,    7,   47,  786, 3255]], dtype=int64)"
      ]
     },
     "execution_count": 97,
     "metadata": {},
     "output_type": "execute_result"
    }
   ],
   "source": [
    "from sklearn.neighbors import KNeighborsClassifier\n",
    "knn = KNeighborsClassifier(n_neighbors=12,metric='euclidean') # Maximum accuracy for n=10\n",
    "knn.fit(x_train,y_train)\n",
    "pred_knn = knn.predict(x_test)\n",
    "tab_knn = confusion_matrix(y_test,pred_knn)\n",
    "tab_knn"
   ]
  },
  {
   "cell_type": "code",
   "execution_count": 98,
   "id": "0dc5de7c",
   "metadata": {},
   "outputs": [
    {
     "name": "stdout",
     "output_type": "stream",
     "text": [
      "0.8090456573978716\n",
      "              precision    recall  f1-score   support\n",
      "\n",
      "         1.0       0.00      0.00      0.00         1\n",
      "         2.0       0.53      0.67      0.59       169\n",
      "         3.0       0.66      0.51      0.57      1331\n",
      "         4.0       0.80      0.89      0.84      6056\n",
      "         5.0       0.88      0.79      0.84      4095\n",
      "\n",
      "    accuracy                           0.81     11652\n",
      "   macro avg       0.57      0.57      0.57     11652\n",
      "weighted avg       0.81      0.81      0.81     11652\n",
      "\n"
     ]
    }
   ],
   "source": [
    "# Finding accuracy, precision, recall and confusion matrix\n",
    "print(accuracy_score(y_test,pred_knn))\n",
    "print(classification_report(y_test,pred_knn))"
   ]
  },
  {
   "cell_type": "markdown",
   "id": "ad2dfd50",
   "metadata": {},
   "source": [
    "**K-Nearest Neighbors Model Evaluation:**\n",
    "\n",
    "Accuracy: 80.90%\n",
    "\n",
    "Key Insights:\n",
    "\n",
    "Class 4.0 performs well with high precision (0.80) and recall (0.89).\n",
    "\n",
    "Class 5.0 also shows solid performance, with good precision (0.88) and recall (0.79).\n",
    "\n",
    "Class 3.0 has decent precision (0.66) but lower recall (0.51), indicating room for improvement in prediction for this class.\n",
    "\n",
    "Class 2.0 performs moderately, with precision (0.53) and recall (0.67).\n",
    "\n",
    "Class 1.0 remains poorly predicted, with both precision and recall at 0.00, likely due to its rarity.\n",
    "\n",
    "Overall, the model performs well on Class 4.0 and Class 5.0, with challenges in predicting Class 1.0 and Class 3.0 effectively."
   ]
  },
  {
   "cell_type": "code",
   "execution_count": null,
   "id": "3dfae3a9",
   "metadata": {},
   "outputs": [],
   "source": [
    "rf.fit(x_train,y_train)\n",
    "pred_rf = rf.predict(x_test)\n",
    "tab_rf = confusion_matrix(y_test,pred_rf)\n",
    "tab_rf"
   ]
  },
  {
   "cell_type": "markdown",
   "id": "aee9b899",
   "metadata": {},
   "source": [
    "### 5. Artificial Neural Network\n",
    "\n"
   ]
  },
  {
   "cell_type": "code",
   "execution_count": 107,
   "id": "e000c04c",
   "metadata": {},
   "outputs": [
    {
     "data": {
      "text/plain": [
       "array([[   0,    0,    0,    1,    0],\n",
       "       [   0,  118,    6,   32,   13],\n",
       "       [   0,   34,  816,  380,  101],\n",
       "       [   0,   64,  358, 5307,  327],\n",
       "       [   0,    9,   35,  760, 3291]], dtype=int64)"
      ]
     },
     "execution_count": 107,
     "metadata": {},
     "output_type": "execute_result"
    }
   ],
   "source": [
    "# Training the model\n",
    "from sklearn.neural_network import MLPClassifier\n",
    "mlp = MLPClassifier()\n",
    "mlp.fit(x_train, y_train)\n",
    "pred_mlp = rf.predict(x_test)\n",
    "tab_mlp = confusion_matrix(y_test,pred_mlp)\n",
    "tab_mlp"
   ]
  },
  {
   "cell_type": "code",
   "execution_count": 108,
   "id": "903e588f",
   "metadata": {},
   "outputs": [
    {
     "name": "stdout",
     "output_type": "stream",
     "text": [
      "0.8180569859251631\n",
      "              precision    recall  f1-score   support\n",
      "\n",
      "           1       0.00      0.00      0.00         1\n",
      "           2       0.52      0.70      0.60       169\n",
      "           3       0.67      0.61      0.64      1331\n",
      "           4       0.82      0.88      0.85      6056\n",
      "           5       0.88      0.80      0.84      4095\n",
      "\n",
      "    accuracy                           0.82     11652\n",
      "   macro avg       0.58      0.60      0.59     11652\n",
      "weighted avg       0.82      0.82      0.82     11652\n",
      "\n"
     ]
    }
   ],
   "source": [
    "# Finding accuracy, precision, recall and confusion matrix\n",
    "print(accuracy_score(y_test,pred_mlp))\n",
    "print(classification_report(y_test,pred_mlp))"
   ]
  },
  {
   "cell_type": "markdown",
   "id": "10510249",
   "metadata": {},
   "source": [
    "**Accuracy: 81.81%**\n",
    "\n",
    "Key Insights:\n",
    "\n",
    "Class 4.0 performs well with high precision (0.82) and recall (0.88).\n",
    "\n",
    "Class 5.0 also shows solid performance with good precision (0.88) and recall (0.80).\n",
    "\n",
    "Class 3.0 has decent precision (0.67) but lower recall (0.61), indicating some room for improvement in prediction for this class.\n",
    "\n",
    "Class 2.0 performs moderately with precision (0.52) and recall (0.70).\n",
    "\n",
    "Class 1.0 is poorly predicted, with both precision and recall at 0.00, likely due to its rarity.\n",
    "\n",
    "Overall, the model performs well on Class 4.0 and Class 5.0, but struggles with Class 1.0 and Class 3.0."
   ]
  },
  {
   "cell_type": "markdown",
   "id": "f06526fc",
   "metadata": {},
   "source": [
    "### 6. Logistic Regression"
   ]
  },
  {
   "cell_type": "code",
   "execution_count": 110,
   "id": "d3a310e2",
   "metadata": {},
   "outputs": [
    {
     "data": {
      "text/plain": [
       "array([[   0,    0,    0,    1,    0],\n",
       "       [   0,    0,    0,  167,    2],\n",
       "       [   0,    0,    0, 1293,   38],\n",
       "       [   0,    0,    0, 5902,  154],\n",
       "       [   0,    0,    0, 2105, 1990]], dtype=int64)"
      ]
     },
     "execution_count": 110,
     "metadata": {},
     "output_type": "execute_result"
    }
   ],
   "source": [
    "from sklearn.linear_model import LogisticRegression\n",
    "lr = LogisticRegression()\n",
    "lr.fit(x_train, y_train)\n",
    "pred_lr = lr.predict(x_test)\n",
    "tab_lr = confusion_matrix(y_test, pred_lr)\n",
    "tab_lr"
   ]
  },
  {
   "cell_type": "code",
   "execution_count": 111,
   "id": "5cca9e0c",
   "metadata": {},
   "outputs": [
    {
     "name": "stdout",
     "output_type": "stream",
     "text": [
      "0.6773086165465156\n",
      "              precision    recall  f1-score   support\n",
      "\n",
      "           1       0.00      0.00      0.00         1\n",
      "           2       0.00      0.00      0.00       169\n",
      "           3       0.00      0.00      0.00      1331\n",
      "           4       0.62      0.97      0.76      6056\n",
      "           5       0.91      0.49      0.63      4095\n",
      "\n",
      "    accuracy                           0.68     11652\n",
      "   macro avg       0.31      0.29      0.28     11652\n",
      "weighted avg       0.64      0.68      0.62     11652\n",
      "\n"
     ]
    }
   ],
   "source": [
    "# Finding accuracy, precision, recall and confusion matrix\n",
    "print(accuracy_score(y_test,pred_lr))\n",
    "print(classification_report(y_test,pred_lr))"
   ]
  },
  {
   "cell_type": "markdown",
   "id": "e723ca1a",
   "metadata": {},
   "source": [
    "**Accuracy: 67.73%**\n",
    "\n",
    "Key Insights:\n",
    "\n",
    "Class 4.0 has good recall (0.97) but lower precision (0.62).\n",
    "\n",
    "Class 5.0 has high precision (0.91) but low recall (0.49).\n",
    "\n",
    "Classes 2.0, 3.0, and 1.0 are poorly predicted, with low precision and recall.\n",
    "\n",
    "Overall, the model performs well on Class 4.0 but struggles with the other classes."
   ]
  },
  {
   "cell_type": "code",
   "execution_count": null,
   "id": "d6e0c785",
   "metadata": {},
   "outputs": [],
   "source": []
  },
  {
   "cell_type": "markdown",
   "id": "ed68dc80",
   "metadata": {},
   "source": [
    "# 2. Predicting Request For Change (RFC)\n"
   ]
  },
  {
   "cell_type": "markdown",
   "id": "68498c6e",
   "metadata": {},
   "source": [
    "### Feature Selection"
   ]
  },
  {
   "cell_type": "code",
   "execution_count": 125,
   "id": "05a82a11",
   "metadata": {},
   "outputs": [],
   "source": [
    "# Selecting the predictors\n",
    "X1 = itsm.loc[:,['CI_Subcat','WBS','Priority','Category','No_of_Related_Interactions','No_of_Related_Incidents']]\n",
    "y1 = itsm.No_of_Related_Changes"
   ]
  },
  {
   "cell_type": "code",
   "execution_count": 126,
   "id": "38a2b5ac",
   "metadata": {},
   "outputs": [
    {
     "data": {
      "text/html": [
       "<div>\n",
       "<style scoped>\n",
       "    .dataframe tbody tr th:only-of-type {\n",
       "        vertical-align: middle;\n",
       "    }\n",
       "\n",
       "    .dataframe tbody tr th {\n",
       "        vertical-align: top;\n",
       "    }\n",
       "\n",
       "    .dataframe thead th {\n",
       "        text-align: right;\n",
       "    }\n",
       "</style>\n",
       "<table border=\"1\" class=\"dataframe\">\n",
       "  <thead>\n",
       "    <tr style=\"text-align: right;\">\n",
       "      <th></th>\n",
       "      <th>CI_Subcat</th>\n",
       "      <th>WBS</th>\n",
       "      <th>Priority</th>\n",
       "      <th>Category</th>\n",
       "      <th>No_of_Related_Interactions</th>\n",
       "      <th>No_of_Related_Incidents</th>\n",
       "    </tr>\n",
       "  </thead>\n",
       "  <tbody>\n",
       "    <tr>\n",
       "      <th>0</th>\n",
       "      <td>Web Based Application</td>\n",
       "      <td>WBS000162</td>\n",
       "      <td>4.0</td>\n",
       "      <td>incident</td>\n",
       "      <td>1.0</td>\n",
       "      <td>2.0</td>\n",
       "    </tr>\n",
       "    <tr>\n",
       "      <th>1</th>\n",
       "      <td>Web Based Application</td>\n",
       "      <td>WBS000088</td>\n",
       "      <td>3.0</td>\n",
       "      <td>incident</td>\n",
       "      <td>1.0</td>\n",
       "      <td>1.0</td>\n",
       "    </tr>\n",
       "    <tr>\n",
       "      <th>2</th>\n",
       "      <td>Desktop Application</td>\n",
       "      <td>WBS000092</td>\n",
       "      <td>4.0</td>\n",
       "      <td>request for information</td>\n",
       "      <td>1.0</td>\n",
       "      <td>0.0</td>\n",
       "    </tr>\n",
       "  </tbody>\n",
       "</table>\n",
       "</div>"
      ],
      "text/plain": [
       "               CI_Subcat        WBS  Priority                 Category  \\\n",
       "0  Web Based Application  WBS000162       4.0                 incident   \n",
       "1  Web Based Application  WBS000088       3.0                 incident   \n",
       "2    Desktop Application  WBS000092       4.0  request for information   \n",
       "\n",
       "   No_of_Related_Interactions  No_of_Related_Incidents  \n",
       "0                         1.0                      2.0  \n",
       "1                         1.0                      1.0  \n",
       "2                         1.0                      0.0  "
      ]
     },
     "execution_count": 126,
     "metadata": {},
     "output_type": "execute_result"
    }
   ],
   "source": [
    "X1.head(3)"
   ]
  },
  {
   "cell_type": "code",
   "execution_count": 127,
   "id": "4541b722",
   "metadata": {},
   "outputs": [],
   "source": [
    "le= LabelEncoder()\n",
    "for i in (0,1,3,4):\n",
    "    X1.iloc[:,i] = le.fit_transform(X1.iloc[:,i])"
   ]
  },
  {
   "cell_type": "code",
   "execution_count": 128,
   "id": "23f9308e",
   "metadata": {},
   "outputs": [],
   "source": [
    "# Splitting into train and test for calculating the accuracy\n",
    "\n",
    "x1_train, x1_test, y1_train, y1_test = train_test_split(X1,y1,test_size=0.25,random_state=10)"
   ]
  },
  {
   "cell_type": "code",
   "execution_count": 129,
   "id": "fd31169d",
   "metadata": {},
   "outputs": [],
   "source": [
    "# Standardization technique is used\n",
    "sc = StandardScaler()\n",
    "x1_train = sc.fit_transform(x1_train)\n",
    "x1_test = sc.transform(x1_test)"
   ]
  },
  {
   "cell_type": "code",
   "execution_count": 130,
   "id": "b61cb8a4",
   "metadata": {},
   "outputs": [
    {
     "data": {
      "text/plain": [
       "(34954, 6)"
      ]
     },
     "execution_count": 130,
     "metadata": {},
     "output_type": "execute_result"
    }
   ],
   "source": [
    "X1_train.shape"
   ]
  },
  {
   "cell_type": "code",
   "execution_count": 131,
   "id": "9fc15436",
   "metadata": {},
   "outputs": [
    {
     "data": {
      "text/plain": [
       "(11652, 6)"
      ]
     },
     "execution_count": 131,
     "metadata": {},
     "output_type": "execute_result"
    }
   ],
   "source": [
    "X1_test.shape"
   ]
  },
  {
   "cell_type": "markdown",
   "id": "98ed0b59",
   "metadata": {},
   "source": [
    "# Model Building"
   ]
  },
  {
   "cell_type": "markdown",
   "id": "78cbebdc",
   "metadata": {},
   "source": [
    "### 1. Decision Tree\n"
   ]
  },
  {
   "cell_type": "code",
   "execution_count": 136,
   "id": "d78943d4",
   "metadata": {},
   "outputs": [
    {
     "data": {
      "text/plain": [
       "array([[11506,    18,     1,     0,     0],\n",
       "       [  116,     2,     0,     0,     1],\n",
       "       [    7,     0,     0,     0,     0],\n",
       "       [    1,     0,     0,     0,     0],\n",
       "       [    0,     0,     0,     0,     0]], dtype=int64)"
      ]
     },
     "execution_count": 136,
     "metadata": {},
     "output_type": "execute_result"
    }
   ],
   "source": [
    "from sklearn.tree import DecisionTreeClassifier\n",
    "dt = DecisionTreeClassifier()\n",
    "dt.fit(x1_train,y1_train)\n",
    "pred_dt1 = dt.predict(x1_test)\n",
    "tab_dt1 = confusion_matrix(y1_test,pred_dt1)\n",
    "tab_dt1"
   ]
  },
  {
   "cell_type": "code",
   "execution_count": 139,
   "id": "6fa60e14",
   "metadata": {},
   "outputs": [
    {
     "name": "stdout",
     "output_type": "stream",
     "text": [
      "0.9876416065911432\n",
      "              precision    recall  f1-score   support\n",
      "\n",
      "         0.0       0.99      1.00      0.99     11525\n",
      "         1.0       0.10      0.02      0.03       119\n",
      "         2.0       0.00      0.00      0.00         7\n",
      "         3.0       0.00      0.00      0.00         1\n",
      "         9.0       0.00      0.00      0.00         0\n",
      "\n",
      "    accuracy                           0.99     11652\n",
      "   macro avg       0.22      0.20      0.20     11652\n",
      "weighted avg       0.98      0.99      0.98     11652\n",
      "\n"
     ]
    }
   ],
   "source": [
    "# Finding accuracy, precision, recall and confusion matrix\n",
    "print(accuracy_score(y1_test,pred_dt1))\n",
    "print(classification_report(y1_test,pred_dt1))"
   ]
  },
  {
   "cell_type": "markdown",
   "id": "56ca5cbe",
   "metadata": {},
   "source": [
    "## 2. Random Forest"
   ]
  },
  {
   "cell_type": "code",
   "execution_count": 140,
   "id": "87600e74",
   "metadata": {},
   "outputs": [
    {
     "data": {
      "text/plain": [
       "array([[11516,     9,     0,     0],\n",
       "       [  118,     1,     0,     0],\n",
       "       [    7,     0,     0,     0],\n",
       "       [    1,     0,     0,     0]], dtype=int64)"
      ]
     },
     "execution_count": 140,
     "metadata": {},
     "output_type": "execute_result"
    }
   ],
   "source": [
    "from sklearn.ensemble import RandomForestClassifier\n",
    "rf = RandomForestClassifier(n_estimators=100,criterion='entropy',max_depth=27) \n",
    "rf.fit(x1_train,y1_train)\n",
    "pred_rf1 = rf.predict(x1_test)\n",
    "tab_rf1 = confusion_matrix(y1_test,pred_rf1)\n",
    "tab_rf1"
   ]
  },
  {
   "cell_type": "code",
   "execution_count": 141,
   "id": "eb8916b9",
   "metadata": {},
   "outputs": [
    {
     "name": "stdout",
     "output_type": "stream",
     "text": [
      "0.9884140061791967\n",
      "              precision    recall  f1-score   support\n",
      "\n",
      "         0.0       0.99      1.00      0.99     11525\n",
      "         1.0       0.10      0.01      0.02       119\n",
      "         2.0       0.00      0.00      0.00         7\n",
      "         3.0       0.00      0.00      0.00         1\n",
      "\n",
      "    accuracy                           0.99     11652\n",
      "   macro avg       0.27      0.25      0.25     11652\n",
      "weighted avg       0.98      0.99      0.98     11652\n",
      "\n"
     ]
    }
   ],
   "source": [
    "# Finding accuracy, precision, recall and confusion matrix\n",
    "print(accuracy_score(y1_test,pred_rf1))\n",
    "print(classification_report(y1_test,pred_rf1))"
   ]
  },
  {
   "cell_type": "code",
   "execution_count": null,
   "id": "191c4671",
   "metadata": {},
   "outputs": [],
   "source": []
  },
  {
   "cell_type": "markdown",
   "id": "827194c5",
   "metadata": {},
   "source": [
    "## 3. Forecasting the Incident Volume\n"
   ]
  },
  {
   "cell_type": "code",
   "execution_count": 159,
   "id": "061ef83d",
   "metadata": {},
   "outputs": [
    {
     "data": {
      "text/html": [
       "<div>\n",
       "<style scoped>\n",
       "    .dataframe tbody tr th:only-of-type {\n",
       "        vertical-align: middle;\n",
       "    }\n",
       "\n",
       "    .dataframe tbody tr th {\n",
       "        vertical-align: top;\n",
       "    }\n",
       "\n",
       "    .dataframe thead th {\n",
       "        text-align: right;\n",
       "    }\n",
       "</style>\n",
       "<table border=\"1\" class=\"dataframe\">\n",
       "  <thead>\n",
       "    <tr style=\"text-align: right;\">\n",
       "      <th></th>\n",
       "      <th>Incident_ID</th>\n",
       "      <th>Open_Time</th>\n",
       "    </tr>\n",
       "  </thead>\n",
       "  <tbody>\n",
       "    <tr>\n",
       "      <th>0</th>\n",
       "      <td>IM0000004</td>\n",
       "      <td>5/2/2012 13:32</td>\n",
       "    </tr>\n",
       "    <tr>\n",
       "      <th>1</th>\n",
       "      <td>IM0000005</td>\n",
       "      <td>12/3/2012 15:44</td>\n",
       "    </tr>\n",
       "    <tr>\n",
       "      <th>2</th>\n",
       "      <td>IM0000006</td>\n",
       "      <td>29-03-2012 12:36</td>\n",
       "    </tr>\n",
       "    <tr>\n",
       "      <th>3</th>\n",
       "      <td>IM0000011</td>\n",
       "      <td>17-07-2012 11:49</td>\n",
       "    </tr>\n",
       "    <tr>\n",
       "      <th>4</th>\n",
       "      <td>IM0000012</td>\n",
       "      <td>10/8/2012 11:01</td>\n",
       "    </tr>\n",
       "  </tbody>\n",
       "</table>\n",
       "</div>"
      ],
      "text/plain": [
       "  Incident_ID         Open_Time\n",
       "0   IM0000004    5/2/2012 13:32\n",
       "1   IM0000005   12/3/2012 15:44\n",
       "2   IM0000006  29-03-2012 12:36\n",
       "3   IM0000011  17-07-2012 11:49\n",
       "4   IM0000012   10/8/2012 11:01"
      ]
     },
     "execution_count": 159,
     "metadata": {},
     "output_type": "execute_result"
    }
   ],
   "source": [
    "# Imporing the necessary columns\n",
    "iv = itsm.loc[:,['Incident_ID','Open_Time']]\n",
    "iv.head()"
   ]
  },
  {
   "cell_type": "markdown",
   "id": "b854746a",
   "metadata": {},
   "source": [
    "### Data Processing / Data Munging"
   ]
  },
  {
   "cell_type": "code",
   "execution_count": 160,
   "id": "7090361b",
   "metadata": {},
   "outputs": [],
   "source": [
    "import datetime as dt\n",
    "# Coverting all the values in proper Datetime format\n",
    "for i in range(len(iv.Open_Time)):\n",
    "    if (iv.Open_Time[i][1]=='/'):\n",
    "        iv.Open_Time[i] = dt.datetime.strptime(iv.Open_Time[i],'%d/%m/%Y %H:%M').date()\n",
    "    elif (iv.Open_Time[i][2]=='/'):\n",
    "        iv.Open_Time[i] = dt.datetime.strptime(iv.Open_Time[i],'%d/%m/%Y %H:%M').date()\n",
    "    else:\n",
    "        iv.Open_Time[i] = dt.datetime.strptime(iv.Open_Time[i],'%d-%m-%Y %H:%M').date()"
   ]
  },
  {
   "cell_type": "code",
   "execution_count": 161,
   "id": "f773368c",
   "metadata": {},
   "outputs": [
    {
     "data": {
      "text/html": [
       "<div>\n",
       "<style scoped>\n",
       "    .dataframe tbody tr th:only-of-type {\n",
       "        vertical-align: middle;\n",
       "    }\n",
       "\n",
       "    .dataframe tbody tr th {\n",
       "        vertical-align: top;\n",
       "    }\n",
       "\n",
       "    .dataframe thead th {\n",
       "        text-align: right;\n",
       "    }\n",
       "</style>\n",
       "<table border=\"1\" class=\"dataframe\">\n",
       "  <thead>\n",
       "    <tr style=\"text-align: right;\">\n",
       "      <th></th>\n",
       "      <th>Incident_ID</th>\n",
       "      <th>Open_Time</th>\n",
       "    </tr>\n",
       "  </thead>\n",
       "  <tbody>\n",
       "    <tr>\n",
       "      <th>0</th>\n",
       "      <td>IM0000004</td>\n",
       "      <td>2012-02-05</td>\n",
       "    </tr>\n",
       "    <tr>\n",
       "      <th>1</th>\n",
       "      <td>IM0000005</td>\n",
       "      <td>2012-03-12</td>\n",
       "    </tr>\n",
       "    <tr>\n",
       "      <th>2</th>\n",
       "      <td>IM0000006</td>\n",
       "      <td>2012-03-29</td>\n",
       "    </tr>\n",
       "    <tr>\n",
       "      <th>3</th>\n",
       "      <td>IM0000011</td>\n",
       "      <td>2012-07-17</td>\n",
       "    </tr>\n",
       "    <tr>\n",
       "      <th>4</th>\n",
       "      <td>IM0000012</td>\n",
       "      <td>2012-08-10</td>\n",
       "    </tr>\n",
       "  </tbody>\n",
       "</table>\n",
       "</div>"
      ],
      "text/plain": [
       "  Incident_ID   Open_Time\n",
       "0   IM0000004  2012-02-05\n",
       "1   IM0000005  2012-03-12\n",
       "2   IM0000006  2012-03-29\n",
       "3   IM0000011  2012-07-17\n",
       "4   IM0000012  2012-08-10"
      ]
     },
     "execution_count": 161,
     "metadata": {},
     "output_type": "execute_result"
    }
   ],
   "source": [
    "iv.head()"
   ]
  },
  {
   "cell_type": "code",
   "execution_count": 162,
   "id": "03301729",
   "metadata": {},
   "outputs": [],
   "source": [
    "# Adding a new column which will have the number of tickets per day\n",
    "iv['No_Incidents'] = iv.groupby('Open_Time')['Incident_ID'].transform('count')"
   ]
  },
  {
   "cell_type": "code",
   "execution_count": 163,
   "id": "b11eff38",
   "metadata": {},
   "outputs": [],
   "source": [
    "iv.drop(['Incident_ID'],axis=1,inplace=True)\n",
    "iv.drop_duplicates(inplace=True)"
   ]
  },
  {
   "cell_type": "code",
   "execution_count": 164,
   "id": "4f38074d",
   "metadata": {},
   "outputs": [
    {
     "data": {
      "text/html": [
       "<div>\n",
       "<style scoped>\n",
       "    .dataframe tbody tr th:only-of-type {\n",
       "        vertical-align: middle;\n",
       "    }\n",
       "\n",
       "    .dataframe tbody tr th {\n",
       "        vertical-align: top;\n",
       "    }\n",
       "\n",
       "    .dataframe thead th {\n",
       "        text-align: right;\n",
       "    }\n",
       "</style>\n",
       "<table border=\"1\" class=\"dataframe\">\n",
       "  <thead>\n",
       "    <tr style=\"text-align: right;\">\n",
       "      <th></th>\n",
       "      <th>Open_Time</th>\n",
       "      <th>No_Incidents</th>\n",
       "    </tr>\n",
       "  </thead>\n",
       "  <tbody>\n",
       "    <tr>\n",
       "      <th>0</th>\n",
       "      <td>2012-02-05</td>\n",
       "      <td>1</td>\n",
       "    </tr>\n",
       "    <tr>\n",
       "      <th>1</th>\n",
       "      <td>2012-03-12</td>\n",
       "      <td>1</td>\n",
       "    </tr>\n",
       "    <tr>\n",
       "      <th>2</th>\n",
       "      <td>2012-03-29</td>\n",
       "      <td>1</td>\n",
       "    </tr>\n",
       "  </tbody>\n",
       "</table>\n",
       "</div>"
      ],
      "text/plain": [
       "    Open_Time  No_Incidents\n",
       "0  2012-02-05             1\n",
       "1  2012-03-12             1\n",
       "2  2012-03-29             1"
      ]
     },
     "execution_count": 164,
     "metadata": {},
     "output_type": "execute_result"
    }
   ],
   "source": [
    "iv.head(3)"
   ]
  },
  {
   "cell_type": "code",
   "execution_count": 166,
   "id": "7deef0e5",
   "metadata": {},
   "outputs": [
    {
     "data": {
      "text/html": [
       "<div>\n",
       "<style scoped>\n",
       "    .dataframe tbody tr th:only-of-type {\n",
       "        vertical-align: middle;\n",
       "    }\n",
       "\n",
       "    .dataframe tbody tr th {\n",
       "        vertical-align: top;\n",
       "    }\n",
       "\n",
       "    .dataframe thead th {\n",
       "        text-align: right;\n",
       "    }\n",
       "</style>\n",
       "<table border=\"1\" class=\"dataframe\">\n",
       "  <thead>\n",
       "    <tr style=\"text-align: right;\">\n",
       "      <th></th>\n",
       "      <th>No_Incidents</th>\n",
       "    </tr>\n",
       "    <tr>\n",
       "      <th>Open_Time</th>\n",
       "      <th></th>\n",
       "    </tr>\n",
       "  </thead>\n",
       "  <tbody>\n",
       "    <tr>\n",
       "      <th>2012-02-05</th>\n",
       "      <td>1</td>\n",
       "    </tr>\n",
       "    <tr>\n",
       "      <th>2012-03-12</th>\n",
       "      <td>1</td>\n",
       "    </tr>\n",
       "    <tr>\n",
       "      <th>2012-03-29</th>\n",
       "      <td>1</td>\n",
       "    </tr>\n",
       "    <tr>\n",
       "      <th>2012-07-17</th>\n",
       "      <td>1</td>\n",
       "    </tr>\n",
       "    <tr>\n",
       "      <th>2012-08-10</th>\n",
       "      <td>2</td>\n",
       "    </tr>\n",
       "  </tbody>\n",
       "</table>\n",
       "</div>"
      ],
      "text/plain": [
       "            No_Incidents\n",
       "Open_Time               \n",
       "2012-02-05             1\n",
       "2012-03-12             1\n",
       "2012-03-29             1\n",
       "2012-07-17             1\n",
       "2012-08-10             2"
      ]
     },
     "execution_count": 166,
     "metadata": {},
     "output_type": "execute_result"
    }
   ],
   "source": [
    "# Setting Date as the Index\n",
    "iv.Open_Time = pd.to_datetime(iv.Open_Time)\n",
    "iv = iv.set_index(['Open_Time']) \n",
    "iv.head()"
   ]
  },
  {
   "cell_type": "code",
   "execution_count": 167,
   "id": "4b631c44",
   "metadata": {},
   "outputs": [
    {
     "name": "stdout",
     "output_type": "stream",
     "text": [
      "2012-02-05 00:00:00 to 2014-03-31 00:00:00\n"
     ]
    }
   ],
   "source": [
    "# Checking range of dates for our values\n",
    "print(iv.index.min(),'to',iv.index.max())"
   ]
  },
  {
   "cell_type": "code",
   "execution_count": 169,
   "id": "9e5dd4ae",
   "metadata": {},
   "outputs": [
    {
     "data": {
      "text/plain": [
       "Open_Time\n",
       "2012-02-05    1.0\n",
       "2012-02-06    NaN\n",
       "2012-02-07    NaN\n",
       "2012-02-08    NaN\n",
       "2012-02-09    NaN\n",
       "Freq: D, Name: No_Incidents, dtype: float64"
      ]
     },
     "execution_count": 169,
     "metadata": {},
     "output_type": "execute_result"
    }
   ],
   "source": [
    "# Making a new Series with frequency as Day\n",
    "data1 = iv['No_Incidents']\n",
    "data1 = data1.asfreq('D')\n",
    "data1.head()"
   ]
  },
  {
   "cell_type": "code",
   "execution_count": 174,
   "id": "51853452",
   "metadata": {},
   "outputs": [
    {
     "data": {
      "image/png": "[encoded data removed]",
      "text/plain": [
       "<Figure size 1080x432 with 1 Axes>"
      ]
     },
     "metadata": {
      "needs_background": "light"
     },
     "output_type": "display_data"
    }
   ],
   "source": [
    "import matplotlib.pyplot as plt\n",
    "\n",
    "# Plotting number of tickets per day with customizations\n",
    "data1.plot(figsize=(15, 6), color='b', linestyle='-', linewidth=2)\n",
    "plt.title('Number of Tickets per Day', fontsize=16)\n",
    "plt.xlabel('Date')\n",
    "plt.ylabel('Tickets')\n",
    "plt.grid()\n",
    "plt.show()"
   ]
  },
  {
   "cell_type": "code",
   "execution_count": 176,
   "id": "150aa921",
   "metadata": {},
   "outputs": [
    {
     "data": {
      "text/html": [
       "<div>\n",
       "<style scoped>\n",
       "    .dataframe tbody tr th:only-of-type {\n",
       "        vertical-align: middle;\n",
       "    }\n",
       "\n",
       "    .dataframe tbody tr th {\n",
       "        vertical-align: top;\n",
       "    }\n",
       "\n",
       "    .dataframe thead th {\n",
       "        text-align: right;\n",
       "    }\n",
       "</style>\n",
       "<table border=\"1\" class=\"dataframe\">\n",
       "  <thead>\n",
       "    <tr style=\"text-align: right;\">\n",
       "      <th></th>\n",
       "      <th>No_Incidents</th>\n",
       "    </tr>\n",
       "    <tr>\n",
       "      <th>Open_Time</th>\n",
       "      <th></th>\n",
       "    </tr>\n",
       "  </thead>\n",
       "  <tbody>\n",
       "    <tr>\n",
       "      <th>2013-10-02</th>\n",
       "      <td>412</td>\n",
       "    </tr>\n",
       "    <tr>\n",
       "      <th>2013-10-03</th>\n",
       "      <td>455</td>\n",
       "    </tr>\n",
       "    <tr>\n",
       "      <th>2013-10-04</th>\n",
       "      <td>345</td>\n",
       "    </tr>\n",
       "    <tr>\n",
       "      <th>2013-10-07</th>\n",
       "      <td>456</td>\n",
       "    </tr>\n",
       "    <tr>\n",
       "      <th>2013-10-05</th>\n",
       "      <td>6</td>\n",
       "    </tr>\n",
       "  </tbody>\n",
       "</table>\n",
       "</div>"
      ],
      "text/plain": [
       "            No_Incidents\n",
       "Open_Time               \n",
       "2013-10-02           412\n",
       "2013-10-03           455\n",
       "2013-10-04           345\n",
       "2013-10-07           456\n",
       "2013-10-05             6"
      ]
     },
     "execution_count": 176,
     "metadata": {},
     "output_type": "execute_result"
    }
   ],
   "source": [
    "# Since not many tickets before October 2013, we consider only the latter values\n",
    "incfrom2013 = iv[iv.index > dt.datetime(2013,10,1)]\n",
    "incfrom2013.head()"
   ]
  },
  {
   "cell_type": "code",
   "execution_count": 177,
   "id": "4c37bdc3",
   "metadata": {},
   "outputs": [
    {
     "data": {
      "text/plain": [
       "DatetimeIndex(['2013-10-02', '2013-10-03', '2013-10-04', '2013-10-05',\n",
       "               '2013-10-06', '2013-10-07', '2013-10-08', '2013-10-09',\n",
       "               '2013-10-10', '2013-10-11',\n",
       "               ...\n",
       "               '2014-03-22', '2014-03-23', '2014-03-24', '2014-03-25',\n",
       "               '2014-03-26', '2014-03-27', '2014-03-28', '2014-03-29',\n",
       "               '2014-03-30', '2014-03-31'],\n",
       "              dtype='datetime64[ns]', name='Open_Time', length=181, freq='D')"
      ]
     },
     "execution_count": 177,
     "metadata": {},
     "output_type": "execute_result"
    }
   ],
   "source": [
    "# new Series\n",
    "data2 = incfrom2013['No_Incidents']\n",
    "data2 = data2.asfreq('D')\n",
    "data2.index"
   ]
  },
  {
   "cell_type": "code",
   "execution_count": 178,
   "id": "cc99bd4f",
   "metadata": {},
   "outputs": [
    {
     "data": {
      "image/png": "[encoded data removed]",
      "text/plain": [
       "<Figure size 1080x432 with 1 Axes>"
      ]
     },
     "metadata": {
      "needs_background": "light"
     },
     "output_type": "display_data"
    }
   ],
   "source": [
    "# Plotting number of tickets per day after October 2013 with customizations\n",
    "data2.plot(figsize=(15, 6), color='g', linestyle='-', linewidth=2)\n",
    "plt.title('Number of Tickets per Day (After October 2013)', fontsize=16)\n",
    "plt.xlabel('Date')\n",
    "plt.ylabel('Tickets')\n",
    "plt.grid(True, linestyle='--', alpha=0.7)\n",
    "plt.show()"
   ]
  },
  {
   "cell_type": "code",
   "execution_count": 179,
   "id": "d5fe2a46",
   "metadata": {},
   "outputs": [],
   "source": [
    "# Making a list of values for p,d & q\n",
    "p = d = q = range(0,2)\n",
    "pdq = list(itertools.product(p,d,q))"
   ]
  },
  {
   "cell_type": "code",
   "execution_count": 180,
   "id": "f391e72a",
   "metadata": {},
   "outputs": [
    {
     "name": "stdout",
     "output_type": "stream",
     "text": [
      "ARIMA(0, 0, 0) - AIC:2539.6180293605685\n",
      "ARIMA(0, 0, 1) - AIC:2373.7853824723097\n",
      "ARIMA(0, 1, 0) - AIC:2371.128960804689\n",
      "ARIMA(0, 1, 1) - AIC:2313.136334869047\n",
      "ARIMA(1, 0, 0) - AIC:2365.291646936565\n",
      "ARIMA(1, 0, 1) - AIC:2337.3125086933514\n",
      "ARIMA(1, 1, 0) - AIC:2373.128068065154\n",
      "ARIMA(1, 1, 1) - AIC:2294.431581243617\n"
     ]
    }
   ],
   "source": [
    "# Checking the AIC values per pairs\n",
    "for param in pdq:\n",
    "    mod = sm.tsa.statespace.SARIMAX(data2,order=param,enforce_stationarity=False,enforce_invertibility=False)\n",
    "    results = mod.fit()\n",
    "    print('ARIMA{} - AIC:{}'.format(param, results.aic))"
   ]
  },
  {
   "cell_type": "code",
   "execution_count": 181,
   "id": "e9f7f442",
   "metadata": {},
   "outputs": [
    {
     "name": "stdout",
     "output_type": "stream",
     "text": [
      "==============================================================================\n",
      "                 coef    std err          z      P>|z|      [0.025      0.975]\n",
      "------------------------------------------------------------------------------\n",
      "ar.L1          0.3386      0.090      3.771      0.000       0.163       0.515\n",
      "ma.L1         -0.9989      0.428     -2.332      0.020      -1.839      -0.159\n",
      "sigma2       2.52e+04   9781.767      2.576      0.010    6023.442    4.44e+04\n",
      "==============================================================================\n"
     ]
    }
   ],
   "source": [
    "# Choosing the model with minimum AIC and the ARIMA Model for Time Series Forecasting\n",
    "mod = sm.tsa.statespace.SARIMAX(data2,order=(1,1,1))\n",
    "results = mod.fit()\n",
    "print(results.summary().tables[1])"
   ]
  },
  {
   "cell_type": "code",
   "execution_count": 182,
   "id": "1718f690",
   "metadata": {},
   "outputs": [
    {
     "data": {
      "text/plain": [
       "2014-03-03    172.0\n",
       "2014-03-04    266.0\n",
       "2014-03-05    279.0\n",
       "2014-03-06    272.0\n",
       "2014-03-07    291.0\n",
       "              ...  \n",
       "2014-10-26    252.0\n",
       "2014-10-27    252.0\n",
       "2014-10-28    252.0\n",
       "2014-10-29    252.0\n",
       "2014-10-30    252.0\n",
       "Freq: D, Name: predicted_mean, Length: 242, dtype: float64"
      ]
     },
     "execution_count": 182,
     "metadata": {},
     "output_type": "execute_result"
    }
   ],
   "source": [
    "# Predicting the future values and the confidence interval\n",
    "pred = results.get_prediction(start=pd.to_datetime('2014-3-3'),end=pd.to_datetime('2014-10-30'),dynamic=False)\n",
    "pred_ci = pred.conf_int()\n",
    "pred.predicted_mean.round()"
   ]
  },
  {
   "cell_type": "code",
   "execution_count": 183,
   "id": "6891644c",
   "metadata": {},
   "outputs": [
    {
     "data": {
      "text/plain": [
       "2014-03-03    172.0\n",
       "2014-03-04    266.0\n",
       "2014-03-05    279.0\n",
       "2014-03-06    272.0\n",
       "2014-03-07    291.0\n",
       "              ...  \n",
       "2014-10-26    252.0\n",
       "2014-10-27    252.0\n",
       "2014-10-28    252.0\n",
       "2014-10-29    252.0\n",
       "2014-10-30    252.0\n",
       "Freq: D, Name: predicted_mean, Length: 242, dtype: float64"
      ]
     },
     "execution_count": 183,
     "metadata": {},
     "output_type": "execute_result"
    }
   ],
   "source": [
    "# Predicting the future values and the confidence interval\n",
    "pred = results.get_prediction(start=pd.to_datetime('2014-3-3'),end=pd.to_datetime('2014-10-30'),dynamic=False)\n",
    "pred_ci = pred.conf_int()\n",
    "pred.predicted_mean.round()"
   ]
  },
  {
   "cell_type": "markdown",
   "id": "8041771c",
   "metadata": {},
   "source": [
    "### Visualization"
   ]
  },
  {
   "cell_type": "code",
   "execution_count": 86,
   "id": "b9677f92",
   "metadata": {},
   "outputs": [
    {
     "data": {
      "image/png": "[encoded data removed]",
      "text/plain": [
       "<Figure size 1080x432 with 1 Axes>"
      ]
     },
     "metadata": {
      "needs_background": "light"
     },
     "output_type": "display_data"
    }
   ],
   "source": [
    "ax = data2['2013':].plot(label='observed')\n",
    "pred.predicted_mean.plot(ax=ax,label='One-step ahead Forecast',figsize=(15, 6))\n",
    "ax.fill_between(pred_ci.index,pred_ci.iloc[:,0],pred_ci.iloc[:,1],color='grey',alpha=0.3)\n",
    "ax.set_xlabel('Date')\n",
    "ax.set_ylabel('No of Incidents') \n",
    "plt.legend()\n",
    "plt.grid()\n",
    "plt.show()"
   ]
  },
  {
   "cell_type": "code",
   "execution_count": null,
   "id": "163668d0",
   "metadata": {},
   "outputs": [],
   "source": []
  },
  {
   "cell_type": "code",
   "execution_count": null,
   "id": "f7352244",
   "metadata": {},
   "outputs": [],
   "source": []
  },
  {
   "cell_type": "code",
   "execution_count": null,
   "id": "c1e6cb24",
   "metadata": {},
   "outputs": [],
   "source": []
  },
  {
   "cell_type": "code",
   "execution_count": null,
   "id": "956caa87",
   "metadata": {},
   "outputs": [],
   "source": []
  }
 ],
 "metadata": {
  "kernelspec": {
   "display_name": "Python 3 (ipykernel)",
   "language": "python",
   "name": "python3"
  },
  "language_info": {
   "codemirror_mode": {
    "name": "ipython",
    "version": 3
   },
   "file_extension": ".py",
   "mimetype": "text/x-python",
   "name": "python",
   "nbconvert_exporter": "python",
   "pygments_lexer": "ipython3",
   "version": "3.9.12"
  }
 },
 "nbformat": 4,
 "nbformat_minor": 5
}
